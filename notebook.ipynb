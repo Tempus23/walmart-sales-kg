{
 "cells": [
  {
   "cell_type": "code",
   "execution_count": 1,
   "id": "5df68d53",
   "metadata": {},
   "outputs": [],
   "source": [
    "from demand_forecasting.walmart_data import WalmartDataloader, WalmartFeatures\n",
    "import numpy as np\n",
    "import pandas as pd\n",
    "import matplotlib.pyplot as plt\n",
    "import seaborn as sns"
   ]
  },
  {
   "cell_type": "code",
   "execution_count": 2,
   "id": "476bc921",
   "metadata": {},
   "outputs": [
    {
     "name": "stdout",
     "output_type": "stream",
     "text": [
      "   Store       Date  Weekly_Sales  Holiday_Flag  Temperature  Fuel_Price  \\\n",
      "0      1 2010-02-05    1643690.90             0        42.31       2.572   \n",
      "1      1 2010-02-12    1641957.44             1        38.51       2.548   \n",
      "2      1 2010-02-19    1611968.17             0        39.93       2.514   \n",
      "3      1 2010-02-26    1409727.59             0        46.63       2.561   \n",
      "4      1 2010-03-05    1554806.68             0        46.50       2.625   \n",
      "\n",
      "          CPI  Unemployment  Month  Quarter  ventas_lag_1  ventas_lag_4  \\\n",
      "0  211.096358         8.106      2        1          0.00           0.0   \n",
      "1  211.242170         8.106      2        1    1643690.90           0.0   \n",
      "2  211.289143         8.106      2        1    1641957.44           0.0   \n",
      "3  211.319643         8.106      2        1    1611968.17           0.0   \n",
      "4  211.350143         8.106      3        1    1409727.59     1643690.9   \n",
      "\n",
      "   ventas_lag_52  media_movil_4_semanas  media_movil_12_semanas  \n",
      "0            0.0           0.000000e+00            0.000000e+00  \n",
      "1            0.0           1.643691e+06            1.643691e+06  \n",
      "2            0.0           1.642824e+06            1.642824e+06  \n",
      "3            0.0           1.632539e+06            1.632539e+06  \n",
      "4            0.0           1.576836e+06            1.576836e+06  \n"
     ]
    }
   ],
   "source": [
    "walmart_data_loader = WalmartDataloader()\n",
    "\n",
    "df = walmart_data_loader.get_clean_data()\n",
    "\n",
    "df = walmart_data_loader.add_features_to_data(df)\n",
    "\n",
    "print(df.head())"
   ]
  },
  {
   "cell_type": "code",
   "execution_count": null,
   "id": "30d52956",
   "metadata": {},
   "outputs": [],
   "source": []
  }
 ],
 "metadata": {
  "kernelspec": {
   "display_name": ".venv",
   "language": "python",
   "name": "python3"
  },
  "language_info": {
   "codemirror_mode": {
    "name": "ipython",
    "version": 3
   },
   "file_extension": ".py",
   "mimetype": "text/x-python",
   "name": "python",
   "nbconvert_exporter": "python",
   "pygments_lexer": "ipython3",
   "version": "3.11.13"
  }
 },
 "nbformat": 4,
 "nbformat_minor": 5
}
